{
 "cells": [
  {
   "cell_type": "code",
   "execution_count": 25,
   "id": "88acd443",
   "metadata": {},
   "outputs": [
    {
     "name": "stdout",
     "output_type": "stream",
     "text": [
      "Collecting julia\n",
      "  Downloading julia-0.5.7-py2.py3-none-any.whl (67 kB)\n",
      "     ---------------------------------------- 67.6/67.6 kB 3.6 MB/s eta 0:00:00\n",
      "Installing collected packages: julia\n",
      "Successfully installed julia-0.5.7\n"
     ]
    }
   ],
   "source": [
    "!pip install julia"
   ]
  },
  {
   "cell_type": "code",
   "execution_count": 1,
   "id": "42ff24e5",
   "metadata": {},
   "outputs": [],
   "source": [
    "# Packages\n",
    "from matplotlib import pyplot as plt\n",
    "import numpy as np\n",
    "import random"
   ]
  },
  {
   "cell_type": "code",
   "execution_count": 2,
   "id": "1c8c44ec",
   "metadata": {},
   "outputs": [],
   "source": [
    "# Bereitstellung von Julia Aufrufe im Python\n",
    "from julia.api import Julia\n",
    "from julia import Main\n",
    "jl = Julia(compiled_modules=False)"
   ]
  },
  {
   "cell_type": "code",
   "execution_count": 1,
   "id": "46161498",
   "metadata": {},
   "outputs": [],
   "source": [
    "# visualize liest filename von ursprunglichen Beispiel Dateien, aber\n",
    "# es muss \"Beispiel{i}_vektor.txt\" vorgeneriert werden (mit w und b)\n",
    "# dann mit Vektor w und b wird Linie laut Punkten (x1,x2) erstellt\n",
    "# Zur Plot Erstellung nutzen wir \n",
    "#     x1 gleichverteilt aus Bereich [0,10] (10000 Punkten)\n",
    "#     x2 = -w[0]/w[1]*x1+b/w[1] = -w1/w2*x1+b*x2\n",
    "# \n",
    "# Auch werden Punkten aus Beispiel gezeichnet, \n",
    "# wo grüne Punkte haben yi = 1\n",
    "#    rote Punkte haben yi = -1\n",
    "def visualize(filename):\n",
    "    #Vektor w und skalar b\n",
    "    vektor_filename = filename[0:len(filename)-4]+\"_vektor.txt\"\n",
    "    print(vektor_filename)\n",
    "    print(\"\\n\")\n",
    "    w_b_vector = open(vektor_filename,\"r\")\n",
    "    liste = []\n",
    "    for x in w_b_vector:\n",
    "        liste.append(x)\n",
    "    liste[0] = liste[0][0:-1]\n",
    "    liste[1] = liste[1][0:-1]\n",
    "    w = [float(liste[0]),float(liste[1])]\n",
    "    b = float(liste[2])\n",
    "    w_b_vector.close()\n",
    "    \n",
    "    print(w)\n",
    "    print(\"\\n\")\n",
    "    print(b)\n",
    "    #Werte fuer visualization\n",
    "    werte = open(filename,\"r\")\n",
    "    xy = []\n",
    "    for x in werte:\n",
    "        xy.append(x)\n",
    "    xy\n",
    "    x = []\n",
    "    y = []\n",
    "    for s in xy:\n",
    "        s = s[0:-1]\n",
    "        temp = s.split(\" \")\n",
    "        x.append([float(temp[0]),float(temp[1])])\n",
    "        y.append(float(temp[2]))\n",
    "    werte.close()\n",
    "    #Visualization    \n",
    "    x1 = np.linspace(0,10,10000)\n",
    "    x2 = -w[0]/w[1]*x1+b/w[1]\n",
    "    #plt.xlim(0, 10), plt.ylim(0, 10)\n",
    "    plt.plot(x1,x2)\n",
    "    for i in range(len(x)):\n",
    "        if(y[i] == 1):\n",
    "            plt.plot(x[i][0],x[i][1],marker = \"o\",color = \"green\")\n",
    "        else:\n",
    "            plt.plot(x[i][0],x[i][1],marker = \"o\",color = \"red\")\n",
    "\n",
    "    \n",
    "    plt.show()"
   ]
  },
  {
   "cell_type": "code",
   "execution_count": 22,
   "id": "fb4c97c7",
   "metadata": {
    "scrolled": true
   },
   "outputs": [
    {
     "name": "stdout",
     "output_type": "stream",
     "text": [
      "Beispiel2_vektor.txt\n",
      "\n",
      "\n",
      "[-0.4999771128640959, -0.49997711286409563]\n",
      "\n",
      "\n",
      "-2.9998779353684952\n"
     ]
    },
    {
     "data": {
      "image/png": "[encoded data removed]",
      "text/plain": [
       "<Figure size 432x288 with 1 Axes>"
      ]
     },
     "metadata": {
      "needs_background": "light"
     },
     "output_type": "display_data"
    }
   ],
   "source": [
    "filename = \"Beispiel2.txt\"\n",
    "\n",
    "jl.eval('include(\"jl_script.jl\")')\n",
    "Main.data = filename\n",
    "stem_list = jl.eval(\"calculate_write_w_b(data)\")\n",
    "\n",
    "visualize(filename)"
   ]
  },
  {
   "cell_type": "code",
   "execution_count": 16,
   "id": "1f04438e",
   "metadata": {},
   "outputs": [],
   "source": [
    "def generate_beispiel(filename):\n",
    "    file = open(filename,\"w\")\n",
    "    for i in range(15):\n",
    "        file.write(str(round(random.uniform(1,3),2)) +\" \")\n",
    "        file.write(str(round(random.uniform(1,10),2)) +\" \")\n",
    "        file.write(str(1) +\"\\n\")\n",
    "    for i in range(15):\n",
    "        file.write(str(round(random.uniform(5,10),2)) +\" \")\n",
    "        file.write(str(round(random.uniform(1,10),2)) +\" \")\n",
    "        file.write(str(-1) +\"\\n\")\n",
    "    file.close()"
   ]
  },
  {
   "cell_type": "code",
   "execution_count": 46,
   "id": "4ae746f8",
   "metadata": {},
   "outputs": [
    {
     "data": {
      "text/plain": [
       "'1.73'"
      ]
     },
     "execution_count": 46,
     "metadata": {},
     "output_type": "execute_result"
    }
   ],
   "source": [
    "str(round(random.uniform(1,5),2))"
   ]
  },
  {
   "cell_type": "code",
   "execution_count": 17,
   "id": "b2c83ff5",
   "metadata": {},
   "outputs": [],
   "source": [
    "generate_beispiel(\"Beispiel6.txt\")"
   ]
  },
  {
   "cell_type": "code",
   "execution_count": null,
   "id": "e739525b",
   "metadata": {},
   "outputs": [],
   "source": []
  }
 ],
 "metadata": {
  "kernelspec": {
   "display_name": "Python 3 (ipykernel)",
   "language": "python",
   "name": "python3"
  },
  "language_info": {
   "codemirror_mode": {
    "name": "ipython",
    "version": 3
   },
   "file_extension": ".py",
   "mimetype": "text/x-python",
   "name": "python",
   "nbconvert_exporter": "python",
   "pygments_lexer": "ipython3",
   "version": "3.9.13"
  }
 },
 "nbformat": 4,
 "nbformat_minor": 5
}
