{
 "cells": [
  {
   "cell_type": "code",
   "execution_count": null,
   "id": "609f32f7",
   "metadata": {},
   "outputs": [],
   "source": []
  },
  {
   "cell_type": "code",
   "execution_count": 2,
   "id": "387e9f90",
   "metadata": {},
   "outputs": [
    {
     "name": "stderr",
     "output_type": "stream",
     "text": [
      "\u001b[32m\u001b[1m    Updating\u001b[22m\u001b[39m registry at `C:\\Users\\zlukich\\.julia\\registries\\General.toml`\n",
      "\u001b[32m\u001b[1m   Resolving\u001b[22m\u001b[39m package versions...\n",
      "\u001b[32m\u001b[1m  No Changes\u001b[22m\u001b[39m to `C:\\Users\\zlukich\\.julia\\environments\\v1.7\\Project.toml`\n",
      "\u001b[32m\u001b[1m  No Changes\u001b[22m\u001b[39m to `C:\\Users\\zlukich\\.julia\\environments\\v1.7\\Manifest.toml`\n"
     ]
    }
   ],
   "source": [
    "]add \"QPDAS\""
   ]
  },
  {
   "cell_type": "code",
   "execution_count": 3,
   "id": "2cacd119",
   "metadata": {},
   "outputs": [],
   "source": [
    "using Pkg\n",
    "using QPDAS\n",
    "using LinearAlgebra"
   ]
  },
  {
   "cell_type": "code",
   "execution_count": 4,
   "id": "4f5d6e7a",
   "metadata": {},
   "outputs": [
    {
     "data": {
      "text/plain": [
       "read_datei (generic function with 1 method)"
      ]
     },
     "execution_count": 4,
     "metadata": {},
     "output_type": "execute_result"
    }
   ],
   "source": [
    "function read_datei(filename)\n",
    "    x = []\n",
    "    y = []\n",
    "    a = readlines(filename)\n",
    "\n",
    "    for k=1:length(a)\n",
    "        temp_row = split(a[k])\n",
    "        x_vector = [parse(Float64, temp_row[1]),parse(Float64, temp_row[2])]\n",
    "        push!(x,x_vector)\n",
    "        push!(y,parse(Float64, temp_row[3]))\n",
    "    end\n",
    "    return (x,y)\n",
    "end"
   ]
  },
  {
   "cell_type": "code",
   "execution_count": 5,
   "id": "a6a1be71",
   "metadata": {},
   "outputs": [
    {
     "data": {
      "text/plain": [
       "skalar_produkt (generic function with 1 method)"
      ]
     },
     "execution_count": 5,
     "metadata": {},
     "output_type": "execute_result"
    }
   ],
   "source": [
    "function skalar_produkt(x1,x2)\n",
    "    return x1[1]*x2[1]+x1[2]*x2[2]\n",
    "end"
   ]
  },
  {
   "cell_type": "code",
   "execution_count": 6,
   "id": "1d0ef14a",
   "metadata": {},
   "outputs": [
    {
     "data": {
      "text/plain": [
       "matrix_berechnung (generic function with 1 method)"
      ]
     },
     "execution_count": 6,
     "metadata": {},
     "output_type": "execute_result"
    }
   ],
   "source": [
    "#matrix = zeros(length(result[1]),length(result[1]))\n",
    "function matrix_berechnung(array)\n",
    "    matrix = zeros(length(array[1]),length(array[1]))\n",
    "    for i=1:length(array[1])\n",
    "        for j = 1:length(array[1])\n",
    "            matrix[i,j] = array[2][i]*array[2][j]*skalar_produkt(array[1][i],array[1][j])\n",
    "        end\n",
    "    end\n",
    "    return matrix\n",
    "end"
   ]
  },
  {
   "cell_type": "code",
   "execution_count": 7,
   "id": "6c00dcff",
   "metadata": {},
   "outputs": [],
   "source": [
    "### Creating a variables for Quadratic program\n",
    "# P = M\n",
    "# z = 1, vector\n",
    "# b = 0 \n",
    "# c = -I, Einheitsmatrix\n",
    "# d = 0, vector\n",
    "# A Matrix bei Diagonalelementen hat spalte y aus Beispiel"
   ]
  },
  {
   "cell_type": "code",
   "execution_count": 12,
   "id": "2750b39f",
   "metadata": {},
   "outputs": [
    {
     "data": {
      "text/plain": [
       "calculate_write_w_b (generic function with 1 method)"
      ]
     },
     "execution_count": 12,
     "metadata": {},
     "output_type": "execute_result"
    }
   ],
   "source": [
    "function calculate_write_w_b(filename)\n",
    "    content = read_datei(filename)\n",
    "    M = matrix_berechnung(content)\n",
    "    P_my = M\n",
    "    #print(\"Matrix M\",M)\n",
    "    z_my = zeros(Int64(sqrt(length(M))))\n",
    "    for k=1:Int64(sqrt(length(M)))\n",
    "        z_my[k] = Float64(-1)\n",
    "    end\n",
    "\n",
    "    b = zeros(1)#Int64(sqrt(length(M))))\n",
    "    #for k=1:Int64(sqrt(length(M)))\n",
    "    #    b[k] = Float64(0)\n",
    "    #end\n",
    "    #print(\"Vektor b\",b)\n",
    "    C = zeros(Int64(sqrt(length(M))),Int64(sqrt(length(M))))\n",
    "    for i=1:Int64(sqrt(length(M)))\n",
    "        C[i,i] = -1\n",
    "    end\n",
    "    #print(\"Matrix C\",C)\n",
    "    A = zeros(Int64(sqrt(length(M))))#,Int64(sqrt(length(M))))\n",
    "    for k=1:Int64(sqrt(length(M)))\n",
    "        A[k] = Float64(content[2][k])\n",
    "    end\n",
    "    A = transpose(A)\n",
    "\n",
    "    A = Matrix{Float64}(A)\n",
    "    #for i=1:Int64(sqrt(length(M)))\n",
    "    #    for j = 1:Int64(sqrt(length(M)))\n",
    "    #        if(i == j)\n",
    "    #            A[i,j] = content[2][i]\n",
    "    #        end\n",
    "    #    end\n",
    "    #end\n",
    "    #print(\"Matrix A\",A)\n",
    "    d = zeros(Int64(sqrt(length(M))))\n",
    "    \n",
    "\n",
    "    P_my  \n",
    "    \n",
    "    P_my = P_my+1/1000*I \n",
    "\n",
    "    qp = QuadraticProgram(A, b, C, d, z_my, P_my)\n",
    "    sol,val = solve!(qp)\n",
    "    #print(sol)\n",
    "\n",
    "    w = zeros(Int64(2))\n",
    "    for i=1:(Int64(sqrt(length(M))))\n",
    "        w += sol[i]*content[2][i]*content[1][i] \n",
    "    end\n",
    "\n",
    "\n",
    "    \n",
    "    I_len = Int64(sqrt(length(M)))\n",
    "    b = 0\n",
    "    for i=1:Int64(sqrt(length(M)))\n",
    "        if(sol[i]<10^(-5))\n",
    "            I_len -=1\n",
    "            continue\n",
    "        end\n",
    "        temp = 0\n",
    "        for j =1:Int64(sqrt(length(M)))\n",
    "            if(sol[j]<10^(-5))\n",
    "                continue\n",
    "            end\n",
    "            temp += sol[j]*content[2][j]*skalar_produkt(content[1][j],content[1][i]) \n",
    "        end\n",
    "        b -= content[2][i] - temp\n",
    "    end\n",
    "    b = b/I_len\n",
    "\n",
    "    datei = open(filename[1:length(filename)-4]*\"_vektor.txt\",\"w\");\n",
    "    str = string(w[1])*\"\\n\"*string(w[2])*\"\\n\"*string(b)\n",
    "    write(datei,str);\n",
    "    close(datei)\n",
    "    return(w,b)\n",
    "end"
   ]
  },
  {
   "cell_type": "code",
   "execution_count": 13,
   "id": "0d6510e6",
   "metadata": {},
   "outputs": [
    {
     "data": {
      "text/plain": [
       "([-0.9995002498750629, 0.9995002498750627], -1.2794210135780304e-12)"
      ]
     },
     "execution_count": 13,
     "metadata": {},
     "output_type": "execute_result"
    }
   ],
   "source": [
    "(w,b) = calculate_write_w_b(\"Beispiel1.txt\")"
   ]
  },
  {
   "cell_type": "code",
   "execution_count": 14,
   "id": "f33ad81e",
   "metadata": {},
   "outputs": [
    {
     "data": {
      "text/plain": [
       "([-0.4999062675748292, -0.49990626757482975], -2.999500093741588)"
      ]
     },
     "execution_count": 14,
     "metadata": {},
     "output_type": "execute_result"
    }
   ],
   "source": [
    "(w,b) = calculate_write_w_b(\"Beispiel2.txt\")"
   ]
  },
  {
   "cell_type": "code",
   "execution_count": null,
   "id": "999374d5",
   "metadata": {},
   "outputs": [],
   "source": []
  }
 ],
 "metadata": {
  "kernelspec": {
   "display_name": "Julia 1.7.3",
   "language": "julia",
   "name": "julia-1.7"
  },
  "language_info": {
   "file_extension": ".jl",
   "mimetype": "application/julia",
   "name": "julia",
   "version": "1.7.3"
  }
 },
 "nbformat": 4,
 "nbformat_minor": 5
}
